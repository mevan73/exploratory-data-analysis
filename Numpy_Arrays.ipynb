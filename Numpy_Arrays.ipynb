{
 "cells": [
  {
   "cell_type": "code",
   "execution_count": 1,
   "id": "7170b9be",
   "metadata": {},
   "outputs": [
    {
     "name": "stdout",
     "output_type": "stream",
     "text": [
      "[1, 2, 3, 4, 5, 6, -89, -96, 77, 56, -25, 0, -12, 23]\n",
      "<class 'list'>\n"
     ]
    }
   ],
   "source": [
    "#Numpy Arrays\n",
    "#Numpy has many built in functions and capabilities.The most important of Numpy: vectors,arrays,matrices and number generation.\n",
    "#Numpy arrays come in two flavors vectors and matrices. Vectors are strictly 1-d arrays and matrices are 2-d arrays(but you should note a matrix can have only one row or column)\n"
   ]
  },
  {
   "cell_type": "code",
   "execution_count": 2,
   "id": "f98381f6",
   "metadata": {},
   "outputs": [
    {
     "name": "stdout",
     "output_type": "stream",
     "text": [
      "[1, 2, 3, 4, 5, 6, -600, -95, -89, 0, -56, 90, 4]\n"
     ]
    }
   ],
   "source": [
    "l=[1,2,3,4,5,6,-600,-95,-89,0,-56,90,4]\n",
    "print(l)"
   ]
  },
  {
   "cell_type": "code",
   "execution_count": 3,
   "id": "c21154fa",
   "metadata": {},
   "outputs": [
    {
     "name": "stdout",
     "output_type": "stream",
     "text": [
      "[   1    2    3    4    5    6 -600  -95  -89    0  -56   90    4]\n",
      "<class 'numpy.ndarray'>\n"
     ]
    }
   ],
   "source": [
    "import numpy as np\n",
    "l=[1,2,3,4,5,6,-600,-95,-89,0,-56,90,4]\n",
    "z=np.array(l)\n",
    "print(z)\n",
    "print(type(z))"
   ]
  },
  {
   "cell_type": "code",
   "execution_count": 4,
   "id": "953e69a5",
   "metadata": {},
   "outputs": [
    {
     "name": "stdout",
     "output_type": "stream",
     "text": [
      "[1, 22, 33, 44, 55, 66, -89, 'Alex', 'William', 45]\n",
      "['1' '22' '33' '44' '55' '66' '-89' 'Alex' 'William' '45']\n",
      "<class 'numpy.ndarray'>\n"
     ]
    }
   ],
   "source": [
    "import numpy as np\n",
    "l=[1,22,33,44,55,66,-89,\"Alex\",\"William\",45]\n",
    "print(l)\n",
    "z=np.array(l)\n",
    "print(z)\n",
    "print(type(z))"
   ]
  },
  {
   "cell_type": "code",
   "execution_count": 10,
   "id": "123ef7b4",
   "metadata": {},
   "outputs": [
    {
     "name": "stdout",
     "output_type": "stream",
     "text": [
      "0\n",
      "31\n",
      "[2 3 4 5]\n",
      "[30]\n",
      "29\n",
      "[ 0  1  2  3  4  5  6  7  8  9 10 11 12 13 14 15 16 17 18 19 20 21 22 23\n",
      " 24 25 26 27 28]\n",
      "[ 0  1  2  3  4  5  6  7  8  9 10 11 12 13 14 15 16 17 18 19 20 21 22 23\n",
      " 24 25 26 27 28 29 30]\n",
      "[30 29 28 27 26 25 24 23 22 21 20 19 18 17 16 15 14 13 12 11 10  9  8  7\n",
      "  6  5  4  3  2  1  0]\n",
      "[ 0  1  2  3  4  5  6  7  8  9 10 11 12 13 14 15 16 17 18 19 20 21 22 23\n",
      " 24 25 26 27 28 29 30]\n",
      "[30 28 26 24 22 20 18 16 14 12 10  8  6  4  2  0]\n",
      "[30 29 28 27 26 25 24 23 22 21 20 19 18 17 16 15 14 13 12 11 10  9  8  7\n",
      "  6  5  4]\n"
     ]
    }
   ],
   "source": [
    "import numpy as np\n",
    "x = np.arange(0,31)\n",
    "x\n",
    "print(x[0])#first index\n",
    "print(len(x))\n",
    "print(x[2:6:])\n",
    "print(x[-1:])#last index return\n",
    "print(x[-2])#second last index return\n",
    "print(x[:-2])#excluded last index and returns the rest all\n",
    "print(x[::])#full list..==x\n",
    "print(x[::-1])#reverse list....from the last\n",
    "print(x[::1])#from the beginning..\n",
    "print(x[::-2])# take 2 interval from the end and print reverse order...\n",
    "print(x[:3:-1])#upto 3 index remove and rest will print in reverse"
   ]
  },
  {
   "cell_type": "code",
   "execution_count": 8,
   "id": "c176b7f3",
   "metadata": {},
   "outputs": [
    {
     "name": "stdout",
     "output_type": "stream",
     "text": [
      "[1, 2, 3, 4, 5, 6, -89, -96, 77, 56, -25, 0, -12, 23]\n",
      "<class 'list'>\n"
     ]
    }
   ],
   "source": [
    "# List.\n",
    "import numpy as np\n",
    "my_list=[1,2,3,4,5,6,-89,-96,77,56,-25,0,-12,23]\n",
    "print(my_list)\n",
    "print(type(my_list))"
   ]
  },
  {
   "cell_type": "code",
   "execution_count": 12,
   "id": "610c1e56",
   "metadata": {},
   "outputs": [
    {
     "name": "stdout",
     "output_type": "stream",
     "text": [
      "[[11 12 13]\n",
      " [14 15 16]\n",
      " [17 18 19]]\n"
     ]
    }
   ],
   "source": [
    "import numpy as np\n",
    "#2D lists\n",
    "my_matrix=[[11,12,13],[14,15,16],[17,18,19]]\n",
    "print(np.array(my_matrix))"
   ]
  },
  {
   "cell_type": "code",
   "execution_count": 15,
   "id": "a36bced8",
   "metadata": {
    "scrolled": false
   },
   "outputs": [
    {
     "name": "stdout",
     "output_type": "stream",
     "text": [
      "[[10 23 56 89]\n",
      " [40 50 60 47]\n",
      " [ 7 89 52 45]\n",
      " [12 36 56 78]\n",
      " [56 46 89 23]\n",
      " [23 45 56 78]]\n"
     ]
    }
   ],
   "source": [
    "import numpy as np\n",
    "#2D lists\n",
    "z=[[10,23,56,89],[40,50,60,47],[7,89,52,45],[12,36,56,78],[56,46,89,23],[23,45,56,78]]\n",
    "print(np.array(z))"
   ]
  },
  {
   "cell_type": "code",
   "execution_count": 18,
   "id": "eead74fb",
   "metadata": {},
   "outputs": [
    {
     "name": "stdout",
     "output_type": "stream",
     "text": [
      "[ 2  4  6  8 10 12 14 16 18 20 22 24 26 28 30 32 34 36 38 40 42 44 46 48\n",
      " 50 52 54 56 58]\n"
     ]
    }
   ],
   "source": [
    "#There are many ways to generate arrays.\n",
    "#arange: return evenly spaced values within a given interval\n",
    "import numpy as np\n",
    "#arange(start,stop,step)\n",
    "arr=np.arange(2,60,2)#n-1 index\n",
    "print(arr)"
   ]
  },
  {
   "cell_type": "code",
   "execution_count": 19,
   "id": "a4930d0e",
   "metadata": {},
   "outputs": [
    {
     "name": "stdout",
     "output_type": "stream",
     "text": [
      "[ 1  3  5  7  9 11 13 15 17 19 21 23 25 27 29 31 33 35 37 39 41 43 45 47\n",
      " 49 51 53 55 57 59]\n"
     ]
    }
   ],
   "source": [
    "import numpy as np\n",
    "v=np.arange(1,60,2)\n",
    "print(v)"
   ]
  },
  {
   "cell_type": "code",
   "execution_count": 28,
   "id": "a7eaa6b1",
   "metadata": {},
   "outputs": [
    {
     "name": "stdout",
     "output_type": "stream",
     "text": [
      "5,10,15,20,25,30,35,40,45,50,[5, 10, 15, 20, 25, 30, 35, 40, 45, 50]\n"
     ]
    }
   ],
   "source": [
    "import numpy as np\n",
    "l=[]\n",
    "for x in np.arange(1,51):\n",
    "    if(x%5==0):\n",
    "        print(x,end=',')\n",
    "        l.append(x)\n",
    "print(l)"
   ]
  },
  {
   "cell_type": "code",
   "execution_count": 34,
   "id": "0c86119c",
   "metadata": {},
   "outputs": [
    {
     "name": "stdout",
     "output_type": "stream",
     "text": [
      "5,10,15,20,25,30,35,40,45,50,"
     ]
    }
   ],
   "source": [
    "import numpy as np\n",
    "# advanced comphrension list generator\n",
    "for x in np.arange(1,51):\n",
    "    if(x%5==0):\n",
    "        print(x,end=',')\n",
    "        "
   ]
  },
  {
   "cell_type": "code",
   "execution_count": 35,
   "id": "4e2ead1a",
   "metadata": {},
   "outputs": [
    {
     "name": "stdout",
     "output_type": "stream",
     "text": [
      "[10, 20, 30, 40, 50]\n"
     ]
    }
   ],
   "source": [
    "a=[]\n",
    "[a.append(x) for x in np.arange(1,51) if (x%2==0 and x%5==0)]\n",
    "print(a)"
   ]
  },
  {
   "cell_type": "code",
   "execution_count": 1,
   "id": "f005ac16",
   "metadata": {},
   "outputs": [
    {
     "name": "stdout",
     "output_type": "stream",
     "text": [
      "[12, 56, 50, 14, 36, 78, 2, 4, 6, 12]\n"
     ]
    }
   ],
   "source": [
    "l=[12,56,89,23,50,14,25,36,78,91,2,3,4,6,5,7,12]\n",
    "Evenlist=list(filter(lambda x:(x%2==0),l))\n",
    "print(Evenlist)"
   ]
  },
  {
   "cell_type": "code",
   "execution_count": 3,
   "id": "6f8c3078",
   "metadata": {},
   "outputs": [
    {
     "name": "stdout",
     "output_type": "stream",
     "text": [
      "[[[1 2]\n",
      "  [3 4]]\n",
      "\n",
      " [[5 6]\n",
      "  [7 8]]]\n"
     ]
    }
   ],
   "source": []
  },
  {
   "cell_type": "code",
   "execution_count": null,
   "id": "3caf965d",
   "metadata": {},
   "outputs": [],
   "source": []
  }
 ],
 "metadata": {
  "kernelspec": {
   "display_name": "Python 3 (ipykernel)",
   "language": "python",
   "name": "python3"
  },
  "language_info": {
   "codemirror_mode": {
    "name": "ipython",
    "version": 3
   },
   "file_extension": ".py",
   "mimetype": "text/x-python",
   "name": "python",
   "nbconvert_exporter": "python",
   "pygments_lexer": "ipython3",
   "version": "3.11.3"
  }
 },
 "nbformat": 4,
 "nbformat_minor": 5
}
