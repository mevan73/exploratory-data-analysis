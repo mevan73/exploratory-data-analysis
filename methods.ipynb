{
 "cells": [
  {
   "cell_type": "code",
   "execution_count": 1,
   "id": "03f7b351",
   "metadata": {},
   "outputs": [
    {
     "name": "stdout",
     "output_type": "stream",
     "text": [
      "x=>12\n",
      "y=>14\n",
      "26\n"
     ]
    }
   ],
   "source": [
    "#Function to add two integers\n",
    "def add(x,y):\n",
    "    print(x+y)\n",
    "x,y=int(input(\"x=>\")),int(input(\"y=>\"))\n",
    "add(x,y)"
   ]
  },
  {
   "cell_type": "code",
   "execution_count": 2,
   "id": "023c57ad",
   "metadata": {},
   "outputs": [
    {
     "name": "stdout",
     "output_type": "stream",
     "text": [
      "a=>13\n",
      "b=>45\n",
      "585\n"
     ]
    }
   ],
   "source": [
    "# Function to add two integers\n",
    "def multiplication(a,b):\n",
    "    print(a*b)\n",
    "a,b=int(input(\"a=>\")),int(input(\"b=>\"))\n",
    "multiplication(a,b)"
   ]
  },
  {
   "cell_type": "code",
   "execution_count": 3,
   "id": "36472cc4",
   "metadata": {},
   "outputs": [
    {
     "name": "stdout",
     "output_type": "stream",
     "text": [
      "c=>12\n",
      "d=>15\n",
      "-3\n"
     ]
    }
   ],
   "source": [
    "# Function to subtract two integers\n",
    "def subtraction(c,d):\n",
    "    print(c-d)\n",
    "c,d=int(input(\"c=>\")),int(input(\"d=>\"))\n",
    "subtraction(c,d)"
   ]
  },
  {
   "cell_type": "code",
   "execution_count": 4,
   "id": "e195262d",
   "metadata": {},
   "outputs": [
    {
     "name": "stdout",
     "output_type": "stream",
     "text": [
      "f=>12\n",
      "g=>15\n",
      "0.8\n"
     ]
    }
   ],
   "source": [
    "#Function to divide two integers\n",
    "def divide(f,g):\n",
    "    print(f/g)\n",
    "f,g=int(input(\"f=>\")),int(input(\"g=>\"))\n",
    "divide(f,g)"
   ]
  },
  {
   "cell_type": "code",
   "execution_count": null,
   "id": "78aa5fd6",
   "metadata": {},
   "outputs": [],
   "source": []
  }
 ],
 "metadata": {
  "kernelspec": {
   "display_name": "Python 3 (ipykernel)",
   "language": "python",
   "name": "python3"
  },
  "language_info": {
   "codemirror_mode": {
    "name": "ipython",
    "version": 3
   },
   "file_extension": ".py",
   "mimetype": "text/x-python",
   "name": "python",
   "nbconvert_exporter": "python",
   "pygments_lexer": "ipython3",
   "version": "3.11.3"
  }
 },
 "nbformat": 4,
 "nbformat_minor": 5
}
