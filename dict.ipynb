{
 "cells": [
  {
   "cell_type": "code",
   "execution_count": 1,
   "id": "12d808d8",
   "metadata": {},
   "outputs": [
    {
     "name": "stdout",
     "output_type": "stream",
     "text": [
      "{'Zara': 500, 'Tommy': 10, 'Sam': 25, 'Daniel': 23, 'Sharon': 10}\n"
     ]
    }
   ],
   "source": [
    "d={}\n",
    "d[\"Zara\"]=500\n",
    "d[\"Tommy\"]=10\n",
    "d[\"Sam\"]=25\n",
    "d[\"Daniel\"]=23\n",
    "d[\"Sharon\"]=10\n",
    "print(d)"
   ]
  },
  {
   "cell_type": "code",
   "execution_count": 2,
   "id": "19ec0b88",
   "metadata": {},
   "outputs": [
    {
     "name": "stdout",
     "output_type": "stream",
     "text": [
      "{'sam': 50, 'Will': 12, 'Evangeline': 12, 'Sheela': 20, 'Greg': 10, 'Guss': 12, 'Aliyah': 5, 'Harper': 15}\n",
      "<class 'dict'>\n"
     ]
    }
   ],
   "source": [
    "D1={\"sam\":50,\"Will\":12,\"Evangeline\":12,\"Sheela\":20,\"Greg\":10,\"Guss\":12,\"Aliyah\":5,\"Harper\":15}\n",
    "print(D1)\n",
    "print(type(D1))"
   ]
  },
  {
   "cell_type": "code",
   "execution_count": 8,
   "id": "2640db8d",
   "metadata": {},
   "outputs": [
    {
     "name": "stdout",
     "output_type": "stream",
     "text": [
      "{'a': 'aa', 'b': 'bb', 'c': 'cc', 'd': 'dd', 'e': 'ee', 'Alpha': 'Beta', 'Gama': 'rainbow', 'sunshine': 10, 'f': 'ff', 'g': 'gg', 'rach': 10, 'Tom': 56, 'Hari': 23}\n"
     ]
    }
   ],
   "source": [
    "dict={\"a\":\"aa\",\"b\":\"bb\",\"c\":\"cc\",\"d\":\"dd\"}\n",
    "dict[\"e\"]=\"ee\"\n",
    "dict[\"Alpha\"]=\"Beta\"\n",
    "dict[\"Gama\"]=\"rainbow\"\n",
    "dict[\"sunshine\"]=10\n",
    "dict.update({\"e\":\"ee\",\"f\":\"ff\",\"g\":\"gg\"})\n",
    "dict.update({\"rach\":10,\"Tom\":56,\"Hari\":23})\n",
    "print(dict)"
   ]
  },
  {
   "cell_type": "code",
   "execution_count": 15,
   "id": "51f2cda4",
   "metadata": {},
   "outputs": [
    {
     "data": {
      "text/plain": [
       "{'name': 'Raj',\n",
       " 'id': 1005,\n",
       " 'salary': 90000,\n",
       " 'gmail': 'sign@runnerup',\n",
       " 'place': 'Gujrat',\n",
       " 'Alpha': 'beta',\n",
       " 'Gama': 'coke'}"
      ]
     },
     "execution_count": 15,
     "metadata": {},
     "output_type": "execute_result"
    }
   ],
   "source": [
    "Employee={\"name\":\"Raj\",\"id\":1005,\"salary\":90000}\n",
    "Ewp={\"gmail\":\"sign@runnerup\",\"place\":\"Gujrat\",\"Alpha\":\"beta\",\"Gama\":\"coke\"}\n",
    "Employee.update(Ewp)\n",
    "Employee"
   ]
  },
  {
   "cell_type": "code",
   "execution_count": 16,
   "id": "c7a911b6",
   "metadata": {},
   "outputs": [
    {
     "data": {
      "text/plain": [
       "dict_keys(['name', 'id', 'salary', 'gmail', 'place', 'Alpha', 'Gama'])"
      ]
     },
     "execution_count": 16,
     "metadata": {},
     "output_type": "execute_result"
    }
   ],
   "source": [
    "Employee.keys()"
   ]
  },
  {
   "cell_type": "code",
   "execution_count": 17,
   "id": "407d339f",
   "metadata": {},
   "outputs": [
    {
     "data": {
      "text/plain": [
       "dict_values(['Raj', 1005, 90000, 'sign@runnerup', 'Gujrat', 'beta', 'coke'])"
      ]
     },
     "execution_count": 17,
     "metadata": {},
     "output_type": "execute_result"
    }
   ],
   "source": [
    "Employee.values()"
   ]
  },
  {
   "cell_type": "code",
   "execution_count": 39,
   "id": "aa63a388",
   "metadata": {},
   "outputs": [
    {
     "name": "stdout",
     "output_type": "stream",
     "text": [
      "('zara', ['Tank_tops', 'Denim_jacket', 'Leather_wear', 'Hoodies', 'Accessories'])\n",
      "('Nike', ['Jordan', 'sketchers', 'yoga_mat', 'blocks', 'tank tops'])\n",
      "('ShrafDG', ['kindle', 'smart_TV', 'speakers', 'Earbuds', 'HDMI cables', 'Tablet', 'Iphones'])\n"
     ]
    },
    {
     "data": {
      "text/plain": [
       "dict_keys(['zara', 'Nike', 'ShrafDG'])"
      ]
     },
     "execution_count": 39,
     "metadata": {},
     "output_type": "execute_result"
    }
   ],
   "source": [
    "products={\"zara\":[\"Tank_tops\",\"Denim_jacket\",\"Leather_wear\",\"Hoodies\",\"Accessories\"],\n",
    "          \"Nike\":[\"Jordan\",\"sketchers\",\"yoga_mat\",\"blocks\",\"tank tops\"],\n",
    "          \"ShrafDG\":[\"kindle\",\"smart_TV\",\"speakers\",\"Earbuds\",\"HDMI cables\",\"Tablet\",\"Iphones\"]}\n",
    "for x in products.items():\n",
    "    print(x)\n",
    "products.keys()\n"
   ]
  },
  {
   "cell_type": "code",
   "execution_count": 23,
   "id": "22546db6",
   "metadata": {},
   "outputs": [
    {
     "data": {
      "text/plain": [
       "dict_values([['Tank_tops', 'Denim_jacket', 'Leather_wear', 'Hoodies', 'Accessories'], ['Jordan', 'sketchers', 'yoga_mat', 'blocks', 'tank tops'], ['kindle', 'smart_TV', 'speakers', 'Earbuds', 'HDMI cables', 'Tablet', 'Iphones']])"
      ]
     },
     "execution_count": 23,
     "metadata": {},
     "output_type": "execute_result"
    }
   ],
   "source": [
    "products.values()"
   ]
  },
  {
   "cell_type": "code",
   "execution_count": 31,
   "id": "27770ac4",
   "metadata": {},
   "outputs": [
    {
     "ename": "AttributeError",
     "evalue": "'dict' object has no attribute 'item'",
     "output_type": "error",
     "traceback": [
      "\u001b[1;31m---------------------------------------------------------------------------\u001b[0m",
      "\u001b[1;31mAttributeError\u001b[0m                            Traceback (most recent call last)",
      "Cell \u001b[1;32mIn[31], line 1\u001b[0m\n\u001b[1;32m----> 1\u001b[0m \u001b[38;5;28;01mfor\u001b[39;00m x \u001b[38;5;129;01min\u001b[39;00m products\u001b[38;5;241m.\u001b[39mitem():\n\u001b[0;32m      2\u001b[0m     \u001b[38;5;28mprint\u001b[39m(products)\n",
      "\u001b[1;31mAttributeError\u001b[0m: 'dict' object has no attribute 'item'"
     ]
    }
   ],
   "source": [
    "for x in products.item():\n",
    "    print(products)"
   ]
  },
  {
   "cell_type": "code",
   "execution_count": 38,
   "id": "7bca2b5d",
   "metadata": {},
   "outputs": [
    {
     "name": "stdout",
     "output_type": "stream",
     "text": [
      "('Red', 'rose')\n",
      "('white', 'orchid')\n",
      "('yellow', 'Tulip')\n",
      "('purple', 'Hydranga')\n"
     ]
    }
   ],
   "source": [
    "flowers={\"Red\":\"rose\",\"white\":\"orchid\",\"yellow\":\"Tulip\",\"purple\":\"Hydranga\"}\n",
    "for x in flowers.items():\n",
    "    print(x)\n",
    " "
   ]
  },
  {
   "cell_type": "code",
   "execution_count": 42,
   "id": "38fabcd4",
   "metadata": {},
   "outputs": [
    {
     "name": "stdout",
     "output_type": "stream",
     "text": [
      "keyname=>Blue Bunny\n",
      "bkey=>Igloo\n",
      "Baskin Robins ,Dairy Queen ,Breyers ,Nestle ,So Delicious ,Igloo\n"
     ]
    }
   ],
   "source": [
    "# to remover the comma and to print upto a certain key\n",
    "ice_cream={\"Baskin Robins\":10,\"Dairy Queen\":20,\"Breyers\":15,\"Nestle\":23,\"So Delicious\":12,\"Igloo\":12,\"Blue Bunny\":15,\"Corner house\":20}\n",
    "keyname,bkey=input(\"keyname=>\"),input(\"bkey=>\")\n",
    "for x in ice_cream:\n",
    "    if(x !=keyname):\n",
    "        if (x !=bkey):\n",
    "            print(x,end =\" ,\")\n",
    "        elif (x ==bkey):\n",
    "            print(x)\n",
    "    elif (x==keyname):\n",
    "        break"
   ]
  },
  {
   "cell_type": "code",
   "execution_count": 6,
   "id": "fade097f",
   "metadata": {},
   "outputs": [
    {
     "name": "stdout",
     "output_type": "stream",
     "text": [
      "Enter the number of products=>3\n",
      "keys=>1\n",
      "id=>1001\n",
      "product available=>car\n",
      "Number of items=>23\n",
      "keys=>2\n",
      "id=>1002\n",
      "product available=>keyboard\n",
      "Number of items=>23\n",
      "keys=>3\n",
      "id=>1003\n",
      "product available=>mouse\n",
      "Number of items=>23\n",
      "{(1,): ((1001,), ('car',), 23), (2,): ((1002,), ('keyboard',), 23), (3,): ((1003,), ('mouse',), 23)}\n"
     ]
    }
   ],
   "source": [
    "d={}\n",
    "n=int(input(\"Enter the number of products=>\"))\n",
    "for i in range(0,n):\n",
    "    key=int(input(\"keys=>\")),\n",
    "    id=int(input(\"id=>\")),\n",
    "    product=input(\"product available=>\"),\n",
    "    number=int(input(\"Number of items=>\"))\n",
    "    d[key]=id,product,number                                                                 \n",
    "print(d)"
   ]
  },
  {
   "cell_type": "code",
   "execution_count": 14,
   "id": "b57f158c",
   "metadata": {},
   "outputs": [
    {
     "name": "stdout",
     "output_type": "stream",
     "text": [
      "Baskin Robins : 10,Dairy Queen : 20,Breyers : 15,Nestle : 23,So Delicious : 12,"
     ]
    }
   ],
   "source": [
    "ice_cream={\"Baskin Robins\":10,\"Dairy Queen\":20,\"Breyers\":15,\"Nestle\":23,\"So Delicious\":12,\"Igloo\":12,\"Blue Bunny\":15,\"Corner house\":20}\n",
    "for x in ice_cream:\n",
    "    if (x!=\"Igloo\"):\n",
    "        print(x,\":\",ice_cream[x],end=\",\")\n",
    "    elif (x==\"Igloo\"):\n",
    "        break\n",
    "        "
   ]
  },
  {
   "cell_type": "code",
   "execution_count": 15,
   "id": "700ef79e",
   "metadata": {
    "scrolled": true
   },
   "outputs": [
    {
     "name": "stdout",
     "output_type": "stream",
     "text": [
      "keyname=>Corner house\n",
      "bkeyname=>Blue Bunny\n",
      "Baskin Robins : 10,Dairy Queen : 20,Breyers : 15,Nestle : 23,So Delicious : 12,Igloo : 12,Blue Bunny : 15,"
     ]
    }
   ],
   "source": [
    "# To print upto a certain key \n",
    "ice_cream={\"Baskin Robins\":10,\"Dairy Queen\":20,\"Breyers\":15,\"Nestle\":23,\"So Delicious\":12,\"Igloo\":12,\"Blue Bunny\":15,\"Corner house\":20}\n",
    "n,m=input(\"keyname=>\"),input(\"bkeyname=>\")\n",
    "for x in ice_cream:\n",
    "    if (x!=n):\n",
    "        print(x,\":\",ice_cream[x],end=\",\")\n",
    "    elif(x==m):\n",
    "        break"
   ]
  },
  {
   "cell_type": "code",
   "execution_count": 1,
   "id": "9a9f8e15",
   "metadata": {},
   "outputs": [
    {
     "name": "stdout",
     "output_type": "stream",
     "text": [
      "Michelle   Data Analyst   8900000   a@gmail.com   1001\n",
      "/n\n",
      "{'NAME': ['Michelle', 'Will', 'Sandra', 'Evangeline', 'Hope', 'Destiny'], 'DESIGNATION': ['Data Analyst', 'HR', 'Accountant', 'Data Analyst', 'HR', 'Accountant'], 'SALARY': [8900000, 2600000, 5600000, 2300000, 1200000, 500000], 'EMAIL': ['a@gmail.com', 'b@gmail.com', 'c@gmail.com', 'd@gmail.com', 'e@gmail.com', 'f@gmail.com'], 'ID': [1001, 1002, 1003, 1004, 1005, 1006]}\n"
     ]
    }
   ],
   "source": [
    "employee={\"NAME\":[\"Michelle\",\"Will\",\"Sandra\",\"Evangeline\",\"Hope\",\"Destiny\"],\n",
    "          \"DESIGNATION\":[\"Data Analyst\",\"HR\",\"Accountant\",\"Data Analyst\",\"HR\",\"Accountant\"],\n",
    "          \"SALARY\":[8900000,2600000,5600000,2300000,1200000,500000],\n",
    "          \"EMAIL\":[\"a@gmail.com\",\"b@gmail.com\",\"c@gmail.com\",\"d@gmail.com\",\"e@gmail.com\",\"f@gmail.com\"],\n",
    "          \"ID\":[1001,1002,1003,1004,1005,1006]}\n",
    "print(employee[\"NAME\"][0],\" \",employee[\"DESIGNATION\"][0],\" \",employee[\"SALARY\"][0],\" \",employee[\"EMAIL\"][0],\" \",employee[\"ID\"][0])\n",
    "print(\"/n\")\n",
    "print(employee)\n"
   ]
  },
  {
   "cell_type": "code",
   "execution_count": null,
   "id": "a75db59f",
   "metadata": {},
   "outputs": [],
   "source": []
  },
  {
   "cell_type": "code",
   "execution_count": null,
   "id": "c06b190d",
   "metadata": {},
   "outputs": [],
   "source": []
  }
 ],
 "metadata": {
  "kernelspec": {
   "display_name": "Python 3 (ipykernel)",
   "language": "python",
   "name": "python3"
  },
  "language_info": {
   "codemirror_mode": {
    "name": "ipython",
    "version": 3
   },
   "file_extension": ".py",
   "mimetype": "text/x-python",
   "name": "python",
   "nbconvert_exporter": "python",
   "pygments_lexer": "ipython3",
   "version": "3.11.3"
  }
 },
 "nbformat": 4,
 "nbformat_minor": 5
}
