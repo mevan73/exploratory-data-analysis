{
 "cells": [
  {
   "cell_type": "code",
   "execution_count": 1,
   "id": "9dc0e542",
   "metadata": {},
   "outputs": [
    {
     "name": "stdout",
     "output_type": "stream",
     "text": [
      "n=>25\n",
      "squared sum is=> 2600\n"
     ]
    }
   ],
   "source": [
    "#H/W Program to print the sum of the squared even sum\n",
    "def Square_sum(n):\n",
    "    S=0\n",
    "    for x in range(1,n+1):\n",
    "        if(x%2==0):\n",
    "            S+=x**2 \n",
    "    print(\"squared sum is=>\",S)\n",
    "n=int(input(\"n=>\"))\n",
    "Square_sum(n)"
   ]
  },
  {
   "cell_type": "code",
   "execution_count": 2,
   "id": "06b98f18",
   "metadata": {},
   "outputs": [
    {
     "name": "stdout",
     "output_type": "stream",
     "text": [
      "n=>12\n",
      "sum is=> 42\n"
     ]
    }
   ],
   "source": [
    "#Sum of even \n",
    "def Even_sum(n):\n",
    "    S=0\n",
    "    for x in range(1,n+1):\n",
    "        if(x%2==0):\n",
    "           S=S+x\n",
    "    print(\"sum is=>\",S)\n",
    "n=int(input(\"n=>\"))\n",
    "Even_sum(n)"
   ]
  },
  {
   "cell_type": "code",
   "execution_count": 3,
   "id": "d7af00a6",
   "metadata": {},
   "outputs": [
    {
     "name": "stdout",
     "output_type": "stream",
     "text": [
      "n=>25\n",
      "sum is=> 169\n"
     ]
    }
   ],
   "source": [
    "#odd \n",
    "def Odd_sum(n):\n",
    "    S=0\n",
    "    for x in range(1,n+1):\n",
    "        if(x%2==1):\n",
    "           S=S+x\n",
    "    print(\"sum is=>\",S)\n",
    "n=int(input(\"n=>\"))\n",
    "Odd_sum(n)"
   ]
  },
  {
   "cell_type": "code",
   "execution_count": 4,
   "id": "6cec157a",
   "metadata": {},
   "outputs": [
    {
     "name": "stdout",
     "output_type": "stream",
     "text": [
      "x=>12\n",
      "y=>15\n",
      "27\n"
     ]
    }
   ],
   "source": [
    "#addition\n",
    "def add(x,y):\n",
    "    print(x+y)\n",
    "x,y=int(input(\"x=>\")),int(input(\"y=>\"))\n",
    "add(x,y)"
   ]
  },
  {
   "cell_type": "code",
   "execution_count": 5,
   "id": "968da4a9",
   "metadata": {},
   "outputs": [
    {
     "name": "stdout",
     "output_type": "stream",
     "text": [
      "x=>12\n",
      "y=>15\n",
      "180\n"
     ]
    }
   ],
   "source": [
    "#multiplication\n",
    "def multiplication(x,y):\n",
    "    print(x*y)\n",
    "x,y=int(input(\"x=>\")),int(input(\"y=>\"))\n",
    "multiplication(x,y)"
   ]
  },
  {
   "cell_type": "code",
   "execution_count": 6,
   "id": "2c1c53c1",
   "metadata": {},
   "outputs": [
    {
     "name": "stdout",
     "output_type": "stream",
     "text": [
      "x=>12\n",
      "y=>15\n",
      "-3\n"
     ]
    }
   ],
   "source": [
    "#subtraction\n",
    "def subtraction(x,y):\n",
    "    print(x-y)\n",
    "x,y=int(input(\"x=>\")),int(input(\"y=>\"))\n",
    "subtraction(x,y)"
   ]
  },
  {
   "cell_type": "code",
   "execution_count": 8,
   "id": "242262cb",
   "metadata": {},
   "outputs": [
    {
     "name": "stdout",
     "output_type": "stream",
     "text": [
      "x=>12\n",
      "y=>12\n",
      "1.0\n"
     ]
    }
   ],
   "source": [
    "#Division\n",
    "def division(x,y):\n",
    "    print(x/y)\n",
    "x,y=int(input(\"x=>\")),int(input(\"y=>\"))\n",
    "division(x,y)"
   ]
  },
  {
   "cell_type": "code",
   "execution_count": null,
   "id": "7d173a59",
   "metadata": {},
   "outputs": [],
   "source": []
  }
 ],
 "metadata": {
  "kernelspec": {
   "display_name": "Python 3 (ipykernel)",
   "language": "python",
   "name": "python3"
  },
  "language_info": {
   "codemirror_mode": {
    "name": "ipython",
    "version": 3
   },
   "file_extension": ".py",
   "mimetype": "text/x-python",
   "name": "python",
   "nbconvert_exporter": "python",
   "pygments_lexer": "ipython3",
   "version": "3.11.3"
  }
 },
 "nbformat": 4,
 "nbformat_minor": 5
}
