{
 "cells": [
  {
   "cell_type": "code",
   "execution_count": 1,
   "id": "24400553",
   "metadata": {},
   "outputs": [
    {
     "ename": "SyntaxError",
     "evalue": "invalid syntax (1382891022.py, line 2)",
     "output_type": "error",
     "traceback": [
      "\u001b[1;36m  Cell \u001b[1;32mIn[1], line 2\u001b[1;36m\u001b[0m\n\u001b[1;33m    In python we use lamda keyword to ndeclare anonymous function which is why we refer to as lamda functions. An anonymous function refers to a\u001b[0m\n\u001b[1;37m       ^\u001b[0m\n\u001b[1;31mSyntaxError\u001b[0m\u001b[1;31m:\u001b[0m invalid syntax\n"
     ]
    }
   ],
   "source": [
    "# what are lambda functions?\n",
    "In python we use lambda keyword to ndeclare anonymous function which is why we refer to as lamda functions. An anonymous function refers to a \n",
    "function declared with no name.A lamda fucntion can take any number of argumenrs but they can contain only a single expression. An expression\n",
    "is a piece of code excuted by the lamda function,Which may return any value.Lamda functions can be used to return function objects\n",
    ",syntacially,lamda functions are restricted to only a single expression.\n",
    "# When a variable can be used as a function\n",
    "#Why we use lambda function?\n",
    "lambda functions are used when you need a function for a short period of time.This is commonly used when you want to pass a function as \n",
    "an argument to higher-order functions, that is functions that take other functions as their arguments.\n"
   ]
  },
  {
   "cell_type": "code",
   "execution_count": 11,
   "id": "40464c03",
   "metadata": {},
   "outputs": [
    {
     "name": "stdout",
     "output_type": "stream",
     "text": [
      "0\n",
      "0\n",
      "even\n"
     ]
    }
   ],
   "source": [
    "# Creating a lambda function\n",
    "x=3\n",
    "remainder = lambda Z: Z % 2\n",
    "print (remainder(12))\n",
    "x=remainder(40)\n",
    "print(x)\n",
    "if(x==0):\n",
    "    print(\"even\")"
   ]
  },
  {
   "cell_type": "code",
   "execution_count": 10,
   "id": "d74e5057",
   "metadata": {},
   "outputs": [
    {
     "name": "stdout",
     "output_type": "stream",
     "text": [
      "2.0\n"
     ]
    }
   ],
   "source": [
    "#lamda arg(s):exp\n",
    "x=3\n",
    "z = lambda num: num **0.5\n",
    "print(z(4))"
   ]
  },
  {
   "cell_type": "code",
   "execution_count": 13,
   "id": "89a94b28",
   "metadata": {},
   "outputs": [
    {
     "name": "stdout",
     "output_type": "stream",
     "text": [
      "1440\n"
     ]
    }
   ],
   "source": [
    "product=lambda x,y,z,e,n :x*y*z*e*n\n",
    "print(product(2,3,4,5,12))"
   ]
  },
  {
   "cell_type": "code",
   "execution_count": 14,
   "id": "2eda1a3b",
   "metadata": {},
   "outputs": [
    {
     "name": "stdout",
     "output_type": "stream",
     "text": [
      "330\n"
     ]
    }
   ],
   "source": [
    "add = lambda x,y,z,e,u,s: x*(x+y)*s+y*(z+e)*u\n",
    "print(add(2,3,4,5,10,6))"
   ]
  },
  {
   "cell_type": "code",
   "execution_count": 16,
   "id": "ccb34ba2",
   "metadata": {},
   "outputs": [
    {
     "name": "stdout",
     "output_type": "stream",
     "text": [
      "1200\n"
     ]
    }
   ],
   "source": [
    "# Use of an anonymous function inside another function \n",
    "def testfunc(num):\n",
    "    return lambda x: x*num\n",
    "#num=120\n",
    "result1 = testfunc(120)\n",
    "#x=6\n",
    "print(result1(10))\n"
   ]
  },
  {
   "cell_type": "code",
   "execution_count": 33,
   "id": "71c9bb31",
   "metadata": {},
   "outputs": [
    {
     "name": "stdout",
     "output_type": "stream",
     "text": [
      "enter the number?4\n",
      "4 x 1 = 4\n",
      "4 x 2 = 8\n",
      "4 x 3 = 12\n",
      "4 x 4 = 16\n",
      "4 x 5 = 20\n",
      "4 x 6 = 24\n",
      "4 x 7 = 28\n",
      "4 x 8 = 32\n",
      "4 x 9 = 36\n",
      "4 x 10 = 40\n"
     ]
    }
   ],
   "source": [
    "# The function table (n) prints the table of n\n",
    "def table(n):\n",
    "    return lambda a:a*n;\n",
    "# a will contain the iteration variable i and a multiple\n",
    "# of n is returned at each function call \n",
    "n=int(input(\"enter the number?\"))\n",
    "b = table(n)\n",
    "# The enteed number is passed into the function table\n",
    "#b will contain a lambda function which is called again and again with the iteration variablei\n",
    "for i in range (1,11):\n",
    "    print(n,\"x\",i,\"=\",b(i))"
   ]
  },
  {
   "cell_type": "code",
   "execution_count": 35,
   "id": "e314c89f",
   "metadata": {},
   "outputs": [
    {
     "ename": "TypeError",
     "evalue": "'list' object is not callable",
     "output_type": "error",
     "traceback": [
      "\u001b[1;31m---------------------------------------------------------------------------\u001b[0m",
      "\u001b[1;31mTypeError\u001b[0m                                 Traceback (most recent call last)",
      "Cell \u001b[1;32mIn[35], line 2\u001b[0m\n\u001b[0;32m      1\u001b[0m l\u001b[38;5;241m=\u001b[39m[\u001b[38;5;241m12\u001b[39m,\u001b[38;5;241m56\u001b[39m,\u001b[38;5;241m89\u001b[39m,\u001b[38;5;241m23\u001b[39m,\u001b[38;5;241m50\u001b[39m,\u001b[38;5;241m14\u001b[39m,\u001b[38;5;241m25\u001b[39m,\u001b[38;5;241m36\u001b[39m,\u001b[38;5;241m78\u001b[39m,\u001b[38;5;241m91\u001b[39m,\u001b[38;5;241m2\u001b[39m,\u001b[38;5;241m3\u001b[39m,\u001b[38;5;241m4\u001b[39m,\u001b[38;5;241m6\u001b[39m,\u001b[38;5;241m5\u001b[39m,\u001b[38;5;241m7\u001b[39m,\u001b[38;5;241m12\u001b[39m]\n\u001b[1;32m----> 2\u001b[0m Evenlist\u001b[38;5;241m=\u001b[39m\u001b[38;5;28mlist\u001b[39m(\u001b[38;5;28mfilter\u001b[39m(\u001b[38;5;28;01mlambda\u001b[39;00m x:(x\u001b[38;5;241m%\u001b[39m\u001b[38;5;241m2\u001b[39m\u001b[38;5;241m==\u001b[39m\u001b[38;5;241m0\u001b[39m),l))\n\u001b[0;32m      3\u001b[0m \u001b[38;5;28mprint\u001b[39m(Evenlist)\n",
      "\u001b[1;31mTypeError\u001b[0m: 'list' object is not callable"
     ]
    }
   ],
   "source": [
    "l=[12,56,89,23,50,14,25,36,78,91,2,3,4,6,5,7,12]\n",
    "Evenlist=list(filter(lambda x:(x%2==0),l))\n",
    "print(Evenlist)"
   ]
  },
  {
   "cell_type": "code",
   "execution_count": 37,
   "id": "0e14638b",
   "metadata": {},
   "outputs": [
    {
     "ename": "TypeError",
     "evalue": "'list' object is not callable",
     "output_type": "error",
     "traceback": [
      "\u001b[1;31m---------------------------------------------------------------------------\u001b[0m",
      "\u001b[1;31mTypeError\u001b[0m                                 Traceback (most recent call last)",
      "Cell \u001b[1;32mIn[37], line 2\u001b[0m\n\u001b[0;32m      1\u001b[0m l\u001b[38;5;241m=\u001b[39m[\u001b[38;5;241m12\u001b[39m,\u001b[38;5;241m56\u001b[39m,\u001b[38;5;241m89\u001b[39m,\u001b[38;5;241m23\u001b[39m,\u001b[38;5;241m50\u001b[39m,\u001b[38;5;241m14\u001b[39m,\u001b[38;5;241m25\u001b[39m,\u001b[38;5;241m36\u001b[39m,\u001b[38;5;241m78\u001b[39m,\u001b[38;5;241m91\u001b[39m,\u001b[38;5;241m2\u001b[39m,\u001b[38;5;241m3\u001b[39m,\u001b[38;5;241m4\u001b[39m,\u001b[38;5;241m6\u001b[39m,\u001b[38;5;241m5\u001b[39m,\u001b[38;5;241m7\u001b[39m,\u001b[38;5;241m12\u001b[39m]\n\u001b[1;32m----> 2\u001b[0m Evenlist\u001b[38;5;241m=\u001b[39m\u001b[38;5;28mlist\u001b[39m(\u001b[38;5;28mfilter\u001b[39m(\u001b[38;5;28;01mlambda\u001b[39;00m x:(x\u001b[38;5;241m%\u001b[39m\u001b[38;5;241m2\u001b[39m\u001b[38;5;241m==\u001b[39m\u001b[38;5;241m0\u001b[39m),l))\n\u001b[0;32m      3\u001b[0m \u001b[38;5;28mprint\u001b[39m(Evenlist)\n",
      "\u001b[1;31mTypeError\u001b[0m: 'list' object is not callable"
     ]
    }
   ],
   "source": [
    "l=[12,56,89,23,50,14,25,36,78,91,2,3,4,6,5,7,12]\n",
    "Evenlist=list(filter(lambda x:(x%2==0),l))\n",
    "print(Evenlist)"
   ]
  },
  {
   "cell_type": "code",
   "execution_count": null,
   "id": "01fcc3a4",
   "metadata": {},
   "outputs": [],
   "source": []
  },
  {
   "cell_type": "code",
   "execution_count": null,
   "id": "da382be8",
   "metadata": {},
   "outputs": [],
   "source": []
  }
 ],
 "metadata": {
  "kernelspec": {
   "display_name": "Python 3 (ipykernel)",
   "language": "python",
   "name": "python3"
  },
  "language_info": {
   "codemirror_mode": {
    "name": "ipython",
    "version": 3
   },
   "file_extension": ".py",
   "mimetype": "text/x-python",
   "name": "python",
   "nbconvert_exporter": "python",
   "pygments_lexer": "ipython3",
   "version": "3.11.3"
  }
 },
 "nbformat": 4,
 "nbformat_minor": 5
}
