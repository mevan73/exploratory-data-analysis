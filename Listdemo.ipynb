{
 "cells": [
  {
   "cell_type": "code",
   "execution_count": 5,
   "id": "ceaa941f",
   "metadata": {},
   "outputs": [
    {
     "name": "stdout",
     "output_type": "stream",
     "text": [
      "hello World\n"
     ]
    }
   ],
   "source": [
    "print(\"hello World\")"
   ]
  },
  {
   "cell_type": "code",
   "execution_count": 19,
   "id": "77cf778e",
   "metadata": {},
   "outputs": [
    {
     "name": "stdout",
     "output_type": "stream",
     "text": [
      "11\n",
      "[1, 2, 3, 4, 5, 6, [-1, -2, -3, -4], 55, 99, [84, 85, 89], 8, ['Michelle', 'Will Tudor', 'Torvill', 'Lily']]\n",
      "12\n"
     ]
    }
   ],
   "source": [
    "#append()= adds as a whole in the last index\n",
    "x=[1,2,3,4,5,6,[-1,-2,-3,-4],55,99,[84,85,89],8]\n",
    "print (len(x))\n",
    "x.append([\"Michelle\",\"Will Tudor\",\"Torvill\",\"Lily\"])\n",
    "print(x)\n",
    "print(len(x))\n"
   ]
  },
  {
   "cell_type": "code",
   "execution_count": 20,
   "id": "73099ecd",
   "metadata": {},
   "outputs": [
    {
     "name": "stdout",
     "output_type": "stream",
     "text": [
      "26\n",
      "[1, 2, 3, 4, 5, 6, [-1, -2, -3, -4], 55, 99, [84, 85, 89], 8, ['Michelle', 'Will Tudor', 'Torvill', 'Lily'], 7, 8, 9, 4, 5, 6, 'Alex', 'Sam', 'Alice', 'uma', 'Kathrine', 'Roman', 'James', 'Ryle']\n"
     ]
    }
   ],
   "source": [
    "#extend()= inscreases your individual index number...\n",
    "x.extend([7,8,9,4,5,6,\"Alex\"])\n",
    "x.extend([\"Sam\",\"Alice\",\"uma\",\"Kathrine\"])\n",
    "x.extend([\"Roman\",\"James\",\"Ryle\"])\n",
    "print(len(x))\n",
    "print(x)"
   ]
  },
  {
   "cell_type": "code",
   "execution_count": 21,
   "id": "2693499b",
   "metadata": {},
   "outputs": [
    {
     "name": "stdout",
     "output_type": "stream",
     "text": [
      "[1, 2, 3, 4, 'Evangeline', 5, 6, [-1, -2, -3, -4], 55, 99, [84, 85, 89], 8, ['Michelle', 'Will Tudor', 'Torvill', 'Lily'], 7, 8, 9, 4, 5, 6, 'Alex', 'Sam', 'Alice', 'uma', 'Kathrine', 'Roman', 'James', 'Ryle']\n",
      "27\n"
     ]
    }
   ],
   "source": [
    "#insert()= insert the given value at the preffered index\n",
    "x.insert(4,\"Evangeline\")\n",
    "print(x)\n",
    "print(len(x))"
   ]
  },
  {
   "cell_type": "code",
   "execution_count": 16,
   "id": "ba7fc63b",
   "metadata": {},
   "outputs": [
    {
     "name": "stdout",
     "output_type": "stream",
     "text": [
      "385\n"
     ]
    }
   ],
   "source": [
    "# To print the sum of squared numbers from the given list\n",
    "l=[1,2,3,4,5,6,7,8,9,10]\n",
    "sum=0\n",
    "for x in l:\n",
    "    sum+=x**2\n",
    "print(sum)"
   ]
  },
  {
   "cell_type": "code",
   "execution_count": 12,
   "id": "cdc2bfdb",
   "metadata": {},
   "outputs": [
    {
     "name": "stdout",
     "output_type": "stream",
     "text": [
      "Even => [12, 98, 78, 56, 48, 36, 100]\n",
      "Odd => [25, 45, 63, 89, 23, 85, 23, 15, 25]\n"
     ]
    }
   ],
   "source": [
    "#To print the odd and even numbers from the given list #list comprehension\n",
    "l=[12,25,45,63,98,78,89,23,85,56,48,23,15,25,36,100]\n",
    "even=[x for x in l if x%2==0]\n",
    "odd=[x for x in l if x%2!=0]\n",
    "print(\"Even =>\",even)\n",
    "print(\"Odd =>\",odd)"
   ]
  },
  {
   "cell_type": "code",
   "execution_count": 39,
   "id": "20b3e25a",
   "metadata": {},
   "outputs": [
    {
     "name": "stdout",
     "output_type": "stream",
     "text": [
      "Name=>Veronica\n",
      "Bname=>Guss\n",
      "Michelle ,Evangeline ,Will ,Tudor ,Andrew ,Dolly ,Kennith ,Guss\n"
     ]
    }
   ],
   "source": [
    "l=[\"Michelle\",\"Evangeline\",\"Will\",\"Tudor\",\"Andrew\",\"Dolly\",\"Kennith\",\"Guss\",\"Veronica\"]\n",
    "name,bname=input(\"Name=>\"),input(\"Bname=>\")\n",
    "for x in l:\n",
    "    if(x !=name):\n",
    "        if (x !=bname):\n",
    "            print(x,end =\" ,\")\n",
    "        elif (x ==bname):\n",
    "            print(x)\n",
    "    elif (x==name):\n",
    "        break"
   ]
  },
  {
   "cell_type": "code",
   "execution_count": 6,
   "id": "b52d1a7b",
   "metadata": {},
   "outputs": [
    {
     "name": "stdout",
     "output_type": "stream",
     "text": [
      "Enter the number of employee=>5\n",
      "id=>1001\n",
      "Name=>Raj\n",
      "Designation=>HR\n",
      "salary=>90000\n",
      "id=>1002\n",
      "Name=>Michelle\n",
      "Designation=>HR\n",
      "salary=>90000\n",
      "id=>1003\n",
      "Name=>Veronica\n",
      "Designation=>HR\n",
      "salary=>90000\n",
      "id=>1004\n",
      "Name=>Santosh\n",
      "Designation=>HR\n",
      "salary=>90000\n",
      "id=>1005\n",
      "Name=>Sam\n",
      "Designation=>HR\n",
      "salary=>90000\n",
      "[[1001, 'Raj', 'HR', 90000], [1002, 'Michelle', 'HR', 90000], [1003, 'Veronica', 'HR', 90000], [1004, 'Santosh', 'HR', 90000], [1005, 'Sam', 'HR', 90000]]\n"
     ]
    }
   ],
   "source": [
    "lst=[]\n",
    "n=int(input(\"Enter the number of employee=>\"))\n",
    "for i in range(0,n):\n",
    "    id,Name,Designation,salary=int(input(\"id=>\")),input(\"Name=>\"),input(\"Designation=>\"),int(input(\"salary=>\"))\n",
    "    lst.append([id,Name,Designation,salary])\n",
    "print(lst)"
   ]
  },
  {
   "cell_type": "code",
   "execution_count": null,
   "id": "057cc8e6",
   "metadata": {},
   "outputs": [],
   "source": []
  }
 ],
 "metadata": {
  "kernelspec": {
   "display_name": "Python 3 (ipykernel)",
   "language": "python",
   "name": "python3"
  },
  "language_info": {
   "codemirror_mode": {
    "name": "ipython",
    "version": 3
   },
   "file_extension": ".py",
   "mimetype": "text/x-python",
   "name": "python",
   "nbconvert_exporter": "python",
   "pygments_lexer": "ipython3",
   "version": "3.11.3"
  }
 },
 "nbformat": 4,
 "nbformat_minor": 5
}
