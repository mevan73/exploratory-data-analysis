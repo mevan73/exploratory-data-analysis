{
 "cells": [
  {
   "cell_type": "code",
   "execution_count": null,
   "id": "6069fe77",
   "metadata": {},
   "outputs": [
    {
     "name": "stdout",
     "output_type": "stream",
     "text": [
      "Select Operation\n",
      "1.Add\n",
      "2.Subract\n",
      "3.Multiply\n",
      "4.Divide\n",
      "Enter choice(1/2/3/4):1\n",
      "Enter first number:45\n",
      "Enter Second number:45\n",
      "45.0 + 45.0 = 90.0\n"
     ]
    }
   ],
   "source": [
    "def add(x, y):\n",
    "    return x + y\n",
    "def subtract(x,y):\n",
    "    return x - y\n",
    "def multiply(x,y):\n",
    "    return x *y\n",
    "def divide(x, y):\n",
    "    return x/y\n",
    "\n",
    "print(\"Select Operation\")\n",
    "print(\"1.Add\")\n",
    "print(\"2.Subract\")\n",
    "print(\"3.Multiply\")\n",
    "print(\"4.Divide\")\n",
    "\n",
    "while True:\n",
    "    choice = input(\"Enter choice(1/2/3/4):\")\n",
    "    if choice in ('1','2','3','4'):\n",
    "        try:\n",
    "            num1 = float(input(\"Enter first number:\"))\n",
    "            num2 = float(input(\"Enter Second number:\"))\n",
    "        except ValueError:\n",
    "            print(\"Invalid input.Please enter a number.\")\n",
    "            continue\n",
    "    if choice =='1':\n",
    "        print(num1,\"+\", num2, \"=\", add(num1, num2))\n",
    "    elif choice =='2':\n",
    "        print(num1,\"-\", num2, \"=\", subtract(num1, num2))\n",
    "    elif choice =='3':\n",
    "        print(num1,\"*\", num2,\"=\", multiply(num1, num2))\n",
    "    elif choice =='4':\n",
    "        print(num1,\"/\",num2, \"=\", divide(num1,num2))\n",
    "        \n",
    "    next_calculation = input(\"Lets do next calculation? (yes/no):\")\n",
    "    if next_calculation == \"no\":\n",
    "        break\n",
    "    else:\n",
    "        print(\"Invalid input\")"
   ]
  },
  {
   "cell_type": "code",
   "execution_count": null,
   "id": "2f996df0",
   "metadata": {},
   "outputs": [],
   "source": [
    "try:\n",
    "    num = int(input(\"Enter a number: \"))\n",
    "    result = 10 / num\n",
    "    print(\"Result:\", result)\n",
    "except ZeroDivisionError:\n",
    "    print(\"Cannot divide by zero!\")\n",
    "except ValueError:\n",
    "    print(\"Invalid input. Please enter a number.\")"
   ]
  },
  {
   "cell_type": "code",
   "execution_count": null,
   "id": "c9ad3e2d",
   "metadata": {},
   "outputs": [],
   "source": []
  }
 ],
 "metadata": {
  "kernelspec": {
   "display_name": "Python 3 (ipykernel)",
   "language": "python",
   "name": "python3"
  },
  "language_info": {
   "codemirror_mode": {
    "name": "ipython",
    "version": 3
   },
   "file_extension": ".py",
   "mimetype": "text/x-python",
   "name": "python",
   "nbconvert_exporter": "python",
   "pygments_lexer": "ipython3",
   "version": "3.11.5"
  }
 },
 "nbformat": 4,
 "nbformat_minor": 5
}
